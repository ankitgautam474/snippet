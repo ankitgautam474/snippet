{
 "cells": [
  {
   "cell_type": "code",
   "execution_count": 1,
   "id": "2f32b772",
   "metadata": {},
   "outputs": [
    {
     "data": {
      "text/plain": [
       "True"
      ]
     },
     "execution_count": 1,
     "metadata": {},
     "output_type": "execute_result"
    }
   ],
   "source": [
    "def are_brackets_properly_closed(code):\n",
    "    stack = []\n",
    "    opening_brackets = \"([{\"\n",
    "    closing_brackets = \")]}\"\n",
    "    \n",
    "    for char in code:\n",
    "        if char in opening_brackets:\n",
    "            stack.append(char)\n",
    "        elif char in closing_brackets:\n",
    "            if not stack:\n",
    "                return False  # Closing bracket without a matching opening bracket\n",
    "            top = stack.pop()\n",
    "            if opening_brackets.index(top) != closing_brackets.index(char):\n",
    "                return False  # Mismatched opening and closing brackets\n",
    "    \n",
    "    return len(stack) == 0  # All brackets should be properly closed\n",
    "\n",
    "# Example usage:\n",
    "code_snippet = \"if (x > 0) { print('Hello'); }\"\n",
    "result = are_brackets_properly_closed(code_snippet)\n",
    "result\n"
   ]
  },
  {
   "cell_type": "code",
   "execution_count": null,
   "id": "0fd5ab25",
   "metadata": {},
   "outputs": [],
   "source": []
  }
 ],
 "metadata": {
  "kernelspec": {
   "display_name": "Python 3 (ipykernel)",
   "language": "python",
   "name": "python3"
  },
  "language_info": {
   "codemirror_mode": {
    "name": "ipython",
    "version": 3
   },
   "file_extension": ".py",
   "mimetype": "text/x-python",
   "name": "python",
   "nbconvert_exporter": "python",
   "pygments_lexer": "ipython3",
   "version": "3.11.4"
  }
 },
 "nbformat": 4,
 "nbformat_minor": 5
}
